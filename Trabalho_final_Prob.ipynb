{
  "nbformat": 4,
  "nbformat_minor": 0,
  "metadata": {
    "colab": {
      "name": "Trabalho final - Prob",
      "provenance": [],
      "collapsed_sections": [],
      "authorship_tag": "ABX9TyOMzIjOyu0lGKWA7a5S541X",
      "include_colab_link": true
    },
    "kernelspec": {
      "name": "ir",
      "display_name": "R"
    },
    "language_info": {
      "name": "R"
    }
  },
  "cells": [
    {
      "cell_type": "markdown",
      "metadata": {
        "id": "view-in-github",
        "colab_type": "text"
      },
      "source": [
        "<a href=\"https://colab.research.google.com/github/aamgoulart/heart-failure-analysis/blob/main/Trabalho_final_Prob.ipynb\" target=\"_parent\"><img src=\"https://colab.research.google.com/assets/colab-badge.svg\" alt=\"Open In Colab\"/></a>"
      ]
    },
    {
      "cell_type": "code",
      "execution_count": null,
      "metadata": {
        "colab": {
          "base_uri": "https://localhost:8080/",
          "height": 34
        },
        "id": "2At-cPqmfhw5",
        "outputId": "7a56785f-b7f6-42b3-de8d-356376719a82"
      },
      "outputs": [
        {
          "output_type": "display_data",
          "data": {
            "text/html": [
              "'R version 4.2.0 (2022-04-22)'"
            ],
            "text/markdown": "'R version 4.2.0 (2022-04-22)'",
            "text/latex": "'R version 4.2.0 (2022-04-22)'",
            "text/plain": [
              "[1] \"R version 4.2.0 (2022-04-22)\""
            ]
          },
          "metadata": {}
        }
      ],
      "source": [
        "R.version.string"
      ]
    },
    {
      "cell_type": "code",
      "source": [
        "install.packages(\"summarytools\")\n",
        "require(summarytools)\n",
        "require(ggplot2)\n",
        "require(dplyr)"
      ],
      "metadata": {
        "colab": {
          "base_uri": "https://localhost:8080/"
        },
        "id": "tDNZnCQ2gnUE",
        "outputId": "8162addc-9926-454f-d835-8fed56d69114"
      },
      "execution_count": null,
      "outputs": [
        {
          "output_type": "stream",
          "name": "stderr",
          "text": [
            "Installing package into ‘/usr/local/lib/R/site-library’\n",
            "(as ‘lib’ is unspecified)\n",
            "\n",
            "also installing the dependencies ‘Rcpp’, ‘lobstr’, ‘plyr’, ‘reshape2’, ‘checkmate’, ‘magick’, ‘matrixStats’, ‘pander’, ‘pryr’, ‘rapportools’\n",
            "\n",
            "\n",
            "Warning message in install.packages(\"summarytools\"):\n",
            "“installation of package ‘magick’ had non-zero exit status”\n",
            "Warning message in install.packages(\"summarytools\"):\n",
            "“installation of package ‘summarytools’ had non-zero exit status”\n",
            "Loading required package: summarytools\n",
            "\n",
            "Warning message in library(package, lib.loc = lib.loc, character.only = TRUE, logical.return = TRUE, :\n",
            "“there is no package called ‘summarytools’”\n"
          ]
        }
      ]
    },
    {
      "cell_type": "code",
      "source": [
        "dataset <- read.csv(\"/content/heart_failure_clinical_records_dataset.csv\")\n",
        "dataset <- as.data.frame(unclass(dataset), stringsAsFactors = TRUE)"
      ],
      "metadata": {
        "id": "QBwkr1UMgmKg"
      },
      "execution_count": null,
      "outputs": []
    },
    {
      "cell_type": "code",
      "source": [
        "dataset$age"
      ],
      "metadata": {
        "colab": {
          "base_uri": "https://localhost:8080/",
          "height": 104
        },
        "id": "o_loCKsyh5Is",
        "outputId": "9214812f-8d33-41d0-970b-9f6e3414bb6f"
      },
      "execution_count": 6,
      "outputs": [
        {
          "output_type": "display_data",
          "data": {
            "text/html": [
              "<style>\n",
              ".list-inline {list-style: none; margin:0; padding: 0}\n",
              ".list-inline>li {display: inline-block}\n",
              ".list-inline>li:not(:last-child)::after {content: \"\\00b7\"; padding: 0 .5ex}\n",
              "</style>\n",
              "<ol class=list-inline><li>75</li><li>55</li><li>65</li><li>50</li><li>65</li><li>90</li><li>75</li><li>60</li><li>65</li><li>80</li><li>75</li><li>62</li><li>45</li><li>50</li><li>49</li><li>82</li><li>87</li><li>45</li><li>70</li><li>48</li><li>65</li><li>65</li><li>68</li><li>53</li><li>75</li><li>80</li><li>95</li><li>70</li><li>58</li><li>82</li><li>94</li><li>85</li><li>50</li><li>50</li><li>65</li><li>69</li><li>90</li><li>82</li><li>60</li><li>60</li><li>70</li><li>50</li><li>70</li><li>72</li><li>60</li><li>50</li><li>51</li><li>60</li><li>80</li><li>57</li><li>68</li><li>53</li><li>60</li><li>70</li><li>60</li><li>95</li><li>70</li><li>60</li><li>49</li><li>72</li><li>45</li><li>50</li><li>55</li><li>45</li><li>45</li><li>60</li><li>42</li><li>72</li><li>70</li><li>65</li><li>41</li><li>58</li><li>85</li><li>65</li><li>69</li><li>60</li><li>70</li><li>42</li><li>75</li><li>55</li><li>70</li><li>67</li><li>60</li><li>79</li><li>59</li><li>51</li><li>55</li><li>65</li><li>44</li><li>57</li><li>70</li><li>60</li><li>42</li><li>60</li><li>58</li><li>58</li><li>63</li><li>70</li><li>60</li><li>63</li><li>65</li><li>75</li><li>80</li><li>42</li><li>60</li><li>72</li><li>55</li><li>45</li><li>63</li><li>45</li><li>85</li><li>55</li><li>50</li><li>70</li><li>60</li><li>58</li><li>60</li><li>85</li><li>65</li><li>86</li><li>60</li><li>66</li><li>60</li><li>60</li><li>60</li><li>43</li><li>46</li><li>58</li><li>61</li><li>53</li><li>53</li><li>60</li><li>46</li><li>63</li><li>81</li><li>75</li><li>65</li><li>68</li><li>62</li><li>50</li><li>80</li><li>46</li><li>50</li><li>61</li><li>72</li><li>50</li><li>52</li><li>64</li><li>75</li><li>60</li><li>72</li><li>62</li><li>50</li><li>50</li><li>65</li><li>60</li><li>52</li><li>50</li><li>85</li><li>59</li><li>66</li><li>45</li><li>63</li><li>50</li><li>45</li><li>80</li><li>53</li><li>59</li><li>65</li><li>70</li><li>51</li><li>52</li><li>70</li><li>50</li><li>65</li><li>60</li><li>69</li><li>49</li><li>63</li><li>55</li><li>40</li><li>59</li><li>65</li><li>75</li><li>58</li><li>60.667</li><li>50</li><li>60</li><li>60.667</li><li>40</li><li>80</li><li>64</li><li>50</li><li>73</li><li>45</li><li>77</li><li>45</li><li>65</li><li>50</li><li>60</li><li>63</li><li>45</li><li>70</li><li>60</li><li>78</li><li>50</li><li>40</li><li>85</li><li>60</li><li>49</li><li>70</li><li>50</li><li>78</li><li>48</li><li>65</li><li>73</li><li>70</li><li>54</li><li>68</li><li>55</li><li>73</li><li>65</li><li>42</li><li>47</li><li>58</li><li>75</li><li>58</li><li>55</li><li>65</li><li>72</li><li>60</li><li>70</li><li>40</li><li>53</li><li>53</li><li>77</li><li>75</li><li>70</li><li>65</li><li>55</li><li>70</li><li>65</li><li>40</li><li>73</li><li>54</li><li>61</li><li>55</li><li>64</li><li>40</li><li>53</li><li>50</li><li>55</li><li>50</li><li>70</li><li>53</li><li>52</li><li>65</li><li>58</li><li>45</li><li>53</li><li>55</li><li>62</li><li>65</li><li>68</li><li>61</li><li>50</li><li>55</li><li>56</li><li>45</li><li>40</li><li>44</li><li>51</li><li>67</li><li>42</li><li>60</li><li>45</li><li>70</li><li>70</li><li>50</li><li>55</li><li>70</li><li>70</li><li>42</li><li>65</li><li>50</li><li>55</li><li>60</li><li>45</li><li>65</li><li>90</li><li>45</li><li>60</li><li>52</li><li>63</li><li>62</li><li>55</li><li>45</li><li>45</li><li>50</li></ol>\n"
            ],
            "text/markdown": "1. 75\n2. 55\n3. 65\n4. 50\n5. 65\n6. 90\n7. 75\n8. 60\n9. 65\n10. 80\n11. 75\n12. 62\n13. 45\n14. 50\n15. 49\n16. 82\n17. 87\n18. 45\n19. 70\n20. 48\n21. 65\n22. 65\n23. 68\n24. 53\n25. 75\n26. 80\n27. 95\n28. 70\n29. 58\n30. 82\n31. 94\n32. 85\n33. 50\n34. 50\n35. 65\n36. 69\n37. 90\n38. 82\n39. 60\n40. 60\n41. 70\n42. 50\n43. 70\n44. 72\n45. 60\n46. 50\n47. 51\n48. 60\n49. 80\n50. 57\n51. 68\n52. 53\n53. 60\n54. 70\n55. 60\n56. 95\n57. 70\n58. 60\n59. 49\n60. 72\n61. 45\n62. 50\n63. 55\n64. 45\n65. 45\n66. 60\n67. 42\n68. 72\n69. 70\n70. 65\n71. 41\n72. 58\n73. 85\n74. 65\n75. 69\n76. 60\n77. 70\n78. 42\n79. 75\n80. 55\n81. 70\n82. 67\n83. 60\n84. 79\n85. 59\n86. 51\n87. 55\n88. 65\n89. 44\n90. 57\n91. 70\n92. 60\n93. 42\n94. 60\n95. 58\n96. 58\n97. 63\n98. 70\n99. 60\n100. 63\n101. 65\n102. 75\n103. 80\n104. 42\n105. 60\n106. 72\n107. 55\n108. 45\n109. 63\n110. 45\n111. 85\n112. 55\n113. 50\n114. 70\n115. 60\n116. 58\n117. 60\n118. 85\n119. 65\n120. 86\n121. 60\n122. 66\n123. 60\n124. 60\n125. 60\n126. 43\n127. 46\n128. 58\n129. 61\n130. 53\n131. 53\n132. 60\n133. 46\n134. 63\n135. 81\n136. 75\n137. 65\n138. 68\n139. 62\n140. 50\n141. 80\n142. 46\n143. 50\n144. 61\n145. 72\n146. 50\n147. 52\n148. 64\n149. 75\n150. 60\n151. 72\n152. 62\n153. 50\n154. 50\n155. 65\n156. 60\n157. 52\n158. 50\n159. 85\n160. 59\n161. 66\n162. 45\n163. 63\n164. 50\n165. 45\n166. 80\n167. 53\n168. 59\n169. 65\n170. 70\n171. 51\n172. 52\n173. 70\n174. 50\n175. 65\n176. 60\n177. 69\n178. 49\n179. 63\n180. 55\n181. 40\n182. 59\n183. 65\n184. 75\n185. 58\n186. 60.667\n187. 50\n188. 60\n189. 60.667\n190. 40\n191. 80\n192. 64\n193. 50\n194. 73\n195. 45\n196. 77\n197. 45\n198. 65\n199. 50\n200. 60\n201. 63\n202. 45\n203. 70\n204. 60\n205. 78\n206. 50\n207. 40\n208. 85\n209. 60\n210. 49\n211. 70\n212. 50\n213. 78\n214. 48\n215. 65\n216. 73\n217. 70\n218. 54\n219. 68\n220. 55\n221. 73\n222. 65\n223. 42\n224. 47\n225. 58\n226. 75\n227. 58\n228. 55\n229. 65\n230. 72\n231. 60\n232. 70\n233. 40\n234. 53\n235. 53\n236. 77\n237. 75\n238. 70\n239. 65\n240. 55\n241. 70\n242. 65\n243. 40\n244. 73\n245. 54\n246. 61\n247. 55\n248. 64\n249. 40\n250. 53\n251. 50\n252. 55\n253. 50\n254. 70\n255. 53\n256. 52\n257. 65\n258. 58\n259. 45\n260. 53\n261. 55\n262. 62\n263. 65\n264. 68\n265. 61\n266. 50\n267. 55\n268. 56\n269. 45\n270. 40\n271. 44\n272. 51\n273. 67\n274. 42\n275. 60\n276. 45\n277. 70\n278. 70\n279. 50\n280. 55\n281. 70\n282. 70\n283. 42\n284. 65\n285. 50\n286. 55\n287. 60\n288. 45\n289. 65\n290. 90\n291. 45\n292. 60\n293. 52\n294. 63\n295. 62\n296. 55\n297. 45\n298. 45\n299. 50\n\n\n",
            "text/latex": "\\begin{enumerate*}\n\\item 75\n\\item 55\n\\item 65\n\\item 50\n\\item 65\n\\item 90\n\\item 75\n\\item 60\n\\item 65\n\\item 80\n\\item 75\n\\item 62\n\\item 45\n\\item 50\n\\item 49\n\\item 82\n\\item 87\n\\item 45\n\\item 70\n\\item 48\n\\item 65\n\\item 65\n\\item 68\n\\item 53\n\\item 75\n\\item 80\n\\item 95\n\\item 70\n\\item 58\n\\item 82\n\\item 94\n\\item 85\n\\item 50\n\\item 50\n\\item 65\n\\item 69\n\\item 90\n\\item 82\n\\item 60\n\\item 60\n\\item 70\n\\item 50\n\\item 70\n\\item 72\n\\item 60\n\\item 50\n\\item 51\n\\item 60\n\\item 80\n\\item 57\n\\item 68\n\\item 53\n\\item 60\n\\item 70\n\\item 60\n\\item 95\n\\item 70\n\\item 60\n\\item 49\n\\item 72\n\\item 45\n\\item 50\n\\item 55\n\\item 45\n\\item 45\n\\item 60\n\\item 42\n\\item 72\n\\item 70\n\\item 65\n\\item 41\n\\item 58\n\\item 85\n\\item 65\n\\item 69\n\\item 60\n\\item 70\n\\item 42\n\\item 75\n\\item 55\n\\item 70\n\\item 67\n\\item 60\n\\item 79\n\\item 59\n\\item 51\n\\item 55\n\\item 65\n\\item 44\n\\item 57\n\\item 70\n\\item 60\n\\item 42\n\\item 60\n\\item 58\n\\item 58\n\\item 63\n\\item 70\n\\item 60\n\\item 63\n\\item 65\n\\item 75\n\\item 80\n\\item 42\n\\item 60\n\\item 72\n\\item 55\n\\item 45\n\\item 63\n\\item 45\n\\item 85\n\\item 55\n\\item 50\n\\item 70\n\\item 60\n\\item 58\n\\item 60\n\\item 85\n\\item 65\n\\item 86\n\\item 60\n\\item 66\n\\item 60\n\\item 60\n\\item 60\n\\item 43\n\\item 46\n\\item 58\n\\item 61\n\\item 53\n\\item 53\n\\item 60\n\\item 46\n\\item 63\n\\item 81\n\\item 75\n\\item 65\n\\item 68\n\\item 62\n\\item 50\n\\item 80\n\\item 46\n\\item 50\n\\item 61\n\\item 72\n\\item 50\n\\item 52\n\\item 64\n\\item 75\n\\item 60\n\\item 72\n\\item 62\n\\item 50\n\\item 50\n\\item 65\n\\item 60\n\\item 52\n\\item 50\n\\item 85\n\\item 59\n\\item 66\n\\item 45\n\\item 63\n\\item 50\n\\item 45\n\\item 80\n\\item 53\n\\item 59\n\\item 65\n\\item 70\n\\item 51\n\\item 52\n\\item 70\n\\item 50\n\\item 65\n\\item 60\n\\item 69\n\\item 49\n\\item 63\n\\item 55\n\\item 40\n\\item 59\n\\item 65\n\\item 75\n\\item 58\n\\item 60.667\n\\item 50\n\\item 60\n\\item 60.667\n\\item 40\n\\item 80\n\\item 64\n\\item 50\n\\item 73\n\\item 45\n\\item 77\n\\item 45\n\\item 65\n\\item 50\n\\item 60\n\\item 63\n\\item 45\n\\item 70\n\\item 60\n\\item 78\n\\item 50\n\\item 40\n\\item 85\n\\item 60\n\\item 49\n\\item 70\n\\item 50\n\\item 78\n\\item 48\n\\item 65\n\\item 73\n\\item 70\n\\item 54\n\\item 68\n\\item 55\n\\item 73\n\\item 65\n\\item 42\n\\item 47\n\\item 58\n\\item 75\n\\item 58\n\\item 55\n\\item 65\n\\item 72\n\\item 60\n\\item 70\n\\item 40\n\\item 53\n\\item 53\n\\item 77\n\\item 75\n\\item 70\n\\item 65\n\\item 55\n\\item 70\n\\item 65\n\\item 40\n\\item 73\n\\item 54\n\\item 61\n\\item 55\n\\item 64\n\\item 40\n\\item 53\n\\item 50\n\\item 55\n\\item 50\n\\item 70\n\\item 53\n\\item 52\n\\item 65\n\\item 58\n\\item 45\n\\item 53\n\\item 55\n\\item 62\n\\item 65\n\\item 68\n\\item 61\n\\item 50\n\\item 55\n\\item 56\n\\item 45\n\\item 40\n\\item 44\n\\item 51\n\\item 67\n\\item 42\n\\item 60\n\\item 45\n\\item 70\n\\item 70\n\\item 50\n\\item 55\n\\item 70\n\\item 70\n\\item 42\n\\item 65\n\\item 50\n\\item 55\n\\item 60\n\\item 45\n\\item 65\n\\item 90\n\\item 45\n\\item 60\n\\item 52\n\\item 63\n\\item 62\n\\item 55\n\\item 45\n\\item 45\n\\item 50\n\\end{enumerate*}\n",
            "text/plain": [
              "  [1] 75.000 55.000 65.000 50.000 65.000 90.000 75.000 60.000 65.000 80.000\n",
              " [11] 75.000 62.000 45.000 50.000 49.000 82.000 87.000 45.000 70.000 48.000\n",
              " [21] 65.000 65.000 68.000 53.000 75.000 80.000 95.000 70.000 58.000 82.000\n",
              " [31] 94.000 85.000 50.000 50.000 65.000 69.000 90.000 82.000 60.000 60.000\n",
              " [41] 70.000 50.000 70.000 72.000 60.000 50.000 51.000 60.000 80.000 57.000\n",
              " [51] 68.000 53.000 60.000 70.000 60.000 95.000 70.000 60.000 49.000 72.000\n",
              " [61] 45.000 50.000 55.000 45.000 45.000 60.000 42.000 72.000 70.000 65.000\n",
              " [71] 41.000 58.000 85.000 65.000 69.000 60.000 70.000 42.000 75.000 55.000\n",
              " [81] 70.000 67.000 60.000 79.000 59.000 51.000 55.000 65.000 44.000 57.000\n",
              " [91] 70.000 60.000 42.000 60.000 58.000 58.000 63.000 70.000 60.000 63.000\n",
              "[101] 65.000 75.000 80.000 42.000 60.000 72.000 55.000 45.000 63.000 45.000\n",
              "[111] 85.000 55.000 50.000 70.000 60.000 58.000 60.000 85.000 65.000 86.000\n",
              "[121] 60.000 66.000 60.000 60.000 60.000 43.000 46.000 58.000 61.000 53.000\n",
              "[131] 53.000 60.000 46.000 63.000 81.000 75.000 65.000 68.000 62.000 50.000\n",
              "[141] 80.000 46.000 50.000 61.000 72.000 50.000 52.000 64.000 75.000 60.000\n",
              "[151] 72.000 62.000 50.000 50.000 65.000 60.000 52.000 50.000 85.000 59.000\n",
              "[161] 66.000 45.000 63.000 50.000 45.000 80.000 53.000 59.000 65.000 70.000\n",
              "[171] 51.000 52.000 70.000 50.000 65.000 60.000 69.000 49.000 63.000 55.000\n",
              "[181] 40.000 59.000 65.000 75.000 58.000 60.667 50.000 60.000 60.667 40.000\n",
              "[191] 80.000 64.000 50.000 73.000 45.000 77.000 45.000 65.000 50.000 60.000\n",
              "[201] 63.000 45.000 70.000 60.000 78.000 50.000 40.000 85.000 60.000 49.000\n",
              "[211] 70.000 50.000 78.000 48.000 65.000 73.000 70.000 54.000 68.000 55.000\n",
              "[221] 73.000 65.000 42.000 47.000 58.000 75.000 58.000 55.000 65.000 72.000\n",
              "[231] 60.000 70.000 40.000 53.000 53.000 77.000 75.000 70.000 65.000 55.000\n",
              "[241] 70.000 65.000 40.000 73.000 54.000 61.000 55.000 64.000 40.000 53.000\n",
              "[251] 50.000 55.000 50.000 70.000 53.000 52.000 65.000 58.000 45.000 53.000\n",
              "[261] 55.000 62.000 65.000 68.000 61.000 50.000 55.000 56.000 45.000 40.000\n",
              "[271] 44.000 51.000 67.000 42.000 60.000 45.000 70.000 70.000 50.000 55.000\n",
              "[281] 70.000 70.000 42.000 65.000 50.000 55.000 60.000 45.000 65.000 90.000\n",
              "[291] 45.000 60.000 52.000 63.000 62.000 55.000 45.000 45.000 50.000"
            ]
          },
          "metadata": {}
        }
      ]
    }
  ]
}